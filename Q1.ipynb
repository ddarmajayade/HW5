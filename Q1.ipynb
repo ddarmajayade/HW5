{
 "cells": [
  {
   "cell_type": "code",
   "execution_count": 20,
   "metadata": {},
   "outputs": [],
   "source": [
    "import numpy as np\n",
    "import scipy.io as sp\n",
    "import matplotlib.pyplot as plt"
   ]
  },
  {
   "cell_type": "code",
   "execution_count": 23,
   "metadata": {},
   "outputs": [
    {
     "name": "stdout",
     "output_type": "stream",
     "text": [
      "Check Matrix Shape: \n",
      "\t P:(100, 100) \n",
      "\t a:(100, 1) \n",
      "\t b:(100, 1) \n",
      "\t q:(100, 1)\n"
     ]
    }
   ],
   "source": [
    "# READ DATA\n",
    "data = sp.loadmat('Question1.mat')\n",
    "P = data['P']\n",
    "a = data['a']\n",
    "b = data['b']\n",
    "q = data['q']\n",
    "\n",
    "# CONSTANT\n",
    "n = P.shape[0]\n",
    "lambd = 0.5\n",
    "rho = 1.1\n",
    "\n",
    "# SHAPE FOR P,a,b,q\n",
    "print(f'Check Matrix Shape: \\n\\t P:{P.shape} \\n\\t a:{a.shape} \\n\\t b:{b.shape} \\n\\t q:{q.shape}')"
   ]
  },
  {
   "cell_type": "code",
   "execution_count": 16,
   "metadata": {},
   "outputs": [],
   "source": [
    "C = [1,0,0]\n",
    "D = [-1,-1,1]\n",
    "E = [0, a.T, -b.T]\n",
    "\n",
    "def func(x, z):\n",
    "    return 0.5*x.T@P@x + q.T@x + lambd/2*np.linalg.norm(z)**2\n",
    "\n",
    "def lag_func(x, z, w):\n",
    "    return func(x) + rho/2*np.linalg(C@x.T + D@z.T + E + w)**2 + rho/2*np.linalg.norm(w)**2"
   ]
  },
  {
   "cell_type": "code",
   "execution_count": 17,
   "metadata": {},
   "outputs": [],
   "source": [
    "# init\n",
    "x = np.zeros(shape=(n,1))\n",
    "z = np.zeros(shape=(n,1))\n",
    "w = np.zeros(shape=(n,1)) \n"
   ]
  },
  {
   "cell_type": "code",
   "execution_count": 19,
   "metadata": {},
   "outputs": [
    {
     "ename": "ValueError",
     "evalue": "matmul: Input operand 1 has a mismatch in its core dimension 0, with gufunc signature (n?,k),(k,m?)->(n?,m?) (size 1 is different from 3)",
     "output_type": "error",
     "traceback": [
      "\u001b[0;31m---------------------------------------------------------------------------\u001b[0m",
      "\u001b[0;31mValueError\u001b[0m                                Traceback (most recent call last)",
      "Cell \u001b[0;32mIn[19], line 8\u001b[0m\n\u001b[1;32m      4\u001b[0m ws \u001b[38;5;241m=\u001b[39m []\n\u001b[1;32m      6\u001b[0m \u001b[38;5;28;01mfor\u001b[39;00m i \u001b[38;5;129;01min\u001b[39;00m \u001b[38;5;28mrange\u001b[39m(\u001b[38;5;241m100\u001b[39m):\n\u001b[1;32m      7\u001b[0m     \u001b[38;5;66;03m# OPT FOR X\u001b[39;00m\n\u001b[0;32m----> 8\u001b[0m     x \u001b[38;5;241m=\u001b[39m (\u001b[38;5;241m-\u001b[39mrho\u001b[38;5;241m*\u001b[39m(\u001b[43mD\u001b[49m\u001b[38;5;129;43m@z\u001b[39;49m\u001b[38;5;241;43m.\u001b[39;49m\u001b[43mT\u001b[49m \u001b[38;5;241m+\u001b[39m E \u001b[38;5;241m+\u001b[39m w)\u001b[38;5;129m@C\u001b[39m \u001b[38;5;241m-\u001b[39m q) \u001b[38;5;241m/\u001b[39m (P \u001b[38;5;241m+\u001b[39m rho\u001b[38;5;241m*\u001b[39mC\u001b[38;5;241m.\u001b[39mT\u001b[38;5;129m@C\u001b[39m)\n\u001b[1;32m     10\u001b[0m     \u001b[38;5;66;03m# OPT FOR Z\u001b[39;00m\n\u001b[1;32m     11\u001b[0m     z \u001b[38;5;241m=\u001b[39m (\u001b[38;5;241m-\u001b[39mrho\u001b[38;5;241m*\u001b[39m(C\u001b[38;5;129m@x\u001b[39m\u001b[38;5;241m.\u001b[39mT \u001b[38;5;241m+\u001b[39m E \u001b[38;5;241m+\u001b[39m w)\u001b[38;5;129m@D\u001b[39m) \u001b[38;5;241m/\u001b[39m (lambd \u001b[38;5;241m+\u001b[39m rho\u001b[38;5;241m*\u001b[39mD\u001b[38;5;241m.\u001b[39mT\u001b[38;5;129m@D\u001b[39m)\n",
      "\u001b[0;31mValueError\u001b[0m: matmul: Input operand 1 has a mismatch in its core dimension 0, with gufunc signature (n?,k),(k,m?)->(n?,m?) (size 1 is different from 3)"
     ]
    }
   ],
   "source": [
    "# ADMM\n",
    "xs = []\n",
    "zs = []\n",
    "ws = []\n",
    "fs = []\n",
    "delta = []\n",
    "\n",
    "for i in range(1,100):\n",
    "    # OPT FOR X\n",
    "    x = (-rho*(D@z.T + E + w)@C - q) / (P + rho*C.T@C)\n",
    "\n",
    "    # OPT FOR Z\n",
    "    z = (-rho*(C@x.T + E + w)@D) / (lambd + rho*D.T@D)\n",
    "\n",
    "    # OPT FOR W\n",
    "    w = w + C@x.T + D@z.T + E\n",
    "\n",
    "    fs.append(func(x, z))\n",
    "    delta.append(np.linalg.norm(x-z))"
   ]
  },
  {
   "cell_type": "code",
   "execution_count": null,
   "metadata": {},
   "outputs": [],
   "source": [
    "# PLOT f(x) per iteration\n",
    "plt.plot(fs)\n",
    "plt.title('1/2 x.T@P@x + q.T@x per iteration')\n"
   ]
  },
  {
   "cell_type": "code",
   "execution_count": null,
   "metadata": {},
   "outputs": [],
   "source": [
    "# PLOT l2 norm x-z per iteration\n",
    "\n",
    "plt.plot(delta)\n",
    "plt.title('||x-z|| per iteration')\n"
   ]
  },
  {
   "cell_type": "code",
   "execution_count": null,
   "metadata": {},
   "outputs": [],
   "source": []
  }
 ],
 "metadata": {
  "kernelspec": {
   "display_name": "base_env",
   "language": "python",
   "name": "python3"
  },
  "language_info": {
   "codemirror_mode": {
    "name": "ipython",
    "version": 3
   },
   "file_extension": ".py",
   "mimetype": "text/x-python",
   "name": "python",
   "nbconvert_exporter": "python",
   "pygments_lexer": "ipython3",
   "version": "3.10.13"
  }
 },
 "nbformat": 4,
 "nbformat_minor": 2
}
